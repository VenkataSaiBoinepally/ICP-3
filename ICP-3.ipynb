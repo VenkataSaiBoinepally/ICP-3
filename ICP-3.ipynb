{
 "cells": [
  {
   "cell_type": "code",
   "execution_count": 10,
   "id": "a9450b2e",
   "metadata": {},
   "outputs": [
    {
     "data": {
      "text/plain": [
       "array([[13.66530181, 16.62150912, 18.17951828,  0.        , 13.70162837],\n",
       "       [ 0.        ,  8.42419574, 16.33181085, 16.62761813, 13.47146781],\n",
       "       [ 0.        , 11.50317903,  1.22142656,  2.03536935,  2.39726761],\n",
       "       [15.52583173,  7.04076313,  3.00138132, 13.21441322,  0.        ]])"
      ]
     },
     "execution_count": 10,
     "metadata": {},
     "output_type": "execute_result"
    }
   ],
   "source": [
    "import numpy as np\n",
    "\n",
    "x = np.random.uniform(low=1, high=20, size=20)\n",
    "x_vec = x.reshape(4, 5)\n",
    "max_ind = np.argmax(x_vec, axis=1)\n",
    "row_ind = np.arange(x_vec.shape[0])\n",
    "multi_ind = np.array([row_ind, max_ind])\n",
    "linear_ind = np.ravel_multi_index(multi_ind, x_vec.shape)\n",
    "x_vec.reshape((-1))[linear_ind] = 0\n",
    "x_vec"
   ]
  },
  {
   "cell_type": "code",
   "execution_count": 12,
   "id": "80233457",
   "metadata": {},
   "outputs": [
    {
     "name": "stdout",
     "output_type": "stream",
     "text": [
      " full time.\n",
      "Average salary: 62250.0\n"
     ]
    }
   ],
   "source": [
    "class Employee:\n",
    " \n",
    "    number_of_Employees = 0\n",
    "\n",
    "    def __init__(self, name, family_name, salary, department):\n",
    "        self.__name = name\n",
    "        self.__family_name = family_name\n",
    "        self.salary = salary\n",
    "        self.__department = department\n",
    "        Employee.number_of_Employees += 1\n",
    "\n",
    "   \n",
    "    def average_salary(employees):\n",
    "        \n",
    "        sum = 0\n",
    "        for employee in employees:\n",
    "            sum += employee.salary\n",
    "        return sum / Employee.number_of_Employees\n",
    "\n",
    "\n",
    "class FulltimeEmployee(Employee):\n",
    "  \n",
    "    def __init__(self, name, family_name, salary, department):\n",
    "        super().__init__(name, family_name, salary, department)\n",
    "\n",
    "    def full_time_benefits(self):\n",
    "        print(\" full time.\")\n",
    "\n",
    "\n",
    "def main():\n",
    "    employees = []\n",
    "    fte1 = FulltimeEmployee(\"x\", \"x.y\", 80000, \"testing\")\n",
    "    fte1.full_time_benefits()\n",
    "    employees.append(fte1)\n",
    "    fte2 = FulltimeEmployee(\"a\", \"a.b\", 60000, \"deveops\")\n",
    "    employees.append(fte2)\n",
    "    emp1 = Employee(\"c\", \"c.d\", 9000, \"manager\")\n",
    "    employees.append(emp1)\n",
    "    emp2 = Employee(\"f\", \"f.h\", 100000, \"ceo\")\n",
    "    employees.append(emp2)\n",
    "    print(\"Average salary:\", FulltimeEmployee.average_salary(employees))\n",
    "\n",
    "if __name__ == \"__main__\":\n",
    "    main()"
   ]
  }
 ],
 "metadata": {
  "kernelspec": {
   "display_name": "Python 3 (ipykernel)",
   "language": "python",
   "name": "python3"
  },
  "language_info": {
   "codemirror_mode": {
    "name": "ipython",
    "version": 3
   },
   "file_extension": ".py",
   "mimetype": "text/x-python",
   "name": "python",
   "nbconvert_exporter": "python",
   "pygments_lexer": "ipython3",
   "version": "3.9.13"
  }
 },
 "nbformat": 4,
 "nbformat_minor": 5
}
